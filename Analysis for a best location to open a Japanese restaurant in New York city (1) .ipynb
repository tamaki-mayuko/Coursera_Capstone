{
 "cells": [
  {
   "cell_type": "markdown",
   "metadata": {},
   "source": [
    "# Capstone Project - The Battle of Neighborhoods (Week 1)"
   ]
  },
  {
   "cell_type": "markdown",
   "metadata": {},
   "source": [
    "## Analysis for a best location to open a Japanese restaurant in New York city (1)"
   ]
  },
  {
   "cell_type": "markdown",
   "metadata": {},
   "source": [
    "## 1. Introduction section\n",
    "We are TAMAKI ZANMAI SUSHI GROUP that provide Japanese cuisine and that get successfully deployed conveyor belt sushi restaurant chains in Japan. First, we are planning to expand our business to United States, and we wish to open the first conveyor belt sushi restaurant in New York City.　<br>Now, we are looking for the best location to open TAMAKI ZANMAI NEW YORK. In TAMAKI ZANMAI NEW YORK, we plans to provide Sushi, Tempra, Japanese noodles including ramen, and so on.\n",
    "\n",
    "<img src=\"food-2200139_640.jpg\" alt=\"TAMAKIZANMAI\">"
   ]
  },
  {
   "cell_type": "markdown",
   "metadata": {},
   "source": [
    "## 2. Business Problem section\n",
    "Making up almost one-fifth of New York’s Michelin-star establishments, Japanese restaurants are now pillars of the city’s world-famous dining scene. <br>Namely, successing a new Japanese Restaurant in New York City is very difficult, but it is very important for them to battle in New York City because they get people all over the world know their restaurant, and they can know their level with respect to world top restaurants. <br>\n",
    "Therefore, building a restaurant opening strategy including a decision on a location for opening the restaurant gets very important for TAMAKI ZANMAI SUSHI GROUP.<br>\n",
    "TAMAKI ZANMAI SUSHI GROUP is finding the location that meets following all conditions.\n",
    "(1) The location not having nearby Japanese cuisine restaurants which have high ratings\n",
    "(2) The location faced on the street having high traffic volume\n",
    "(3) The location being within a neighborhood where family layer, our main target customer, many lives"
   ]
  },
  {
   "cell_type": "markdown",
   "metadata": {},
   "source": [
    "## 3. Data section\n",
    "For finding the location conditions for opening TAMAKI ZANMAI NEW YORK in New York, we use the following data.<br>\n",
    "1. Neighborhood/Borough Boundaries (geojson) <br>\n",
    "Neighborhood_Boundaries.geojson: https://data.cityofnewyork.us/City-Government/Neighborhood-Tabulation-Areas-NTA-/cpf4-rkhq<br>\n",
    "Borough_Boundaries.geojson: https://data.cityofnewyork.us/City-Government/Borough-Boundaries/tqmj-j8zm<br>\n",
    "2. Locations and Ratings of Japanese cuisine restaurants<br>\n",
    "downloaded from https://api.foursquare.com/ FourSquare<br>\n",
    "3. Traffic Volume Counts (2014-2018)<br>\n",
    "Traffic_Volume_Counts__2014-2018_.csv: https://data.cityofnewyork.us/Transportation/Traffic-Volume-Counts-2014-2018-/ertz-hr4r<br>\n",
    "Note: This dataset is counted by streets. I have used the traffic counts at 11:00-13:00 (lunch time) and 18:00-20:00 (dinner time) of this data<br>\n",
    "4. DOF: Summary of Neighborhood Sales by Neighborhood Citywide by Borough<br>\n",
    "DOF__Summary_of_Neighborhood_Sales_by_Neighborhood_Citywide_by_Borough.csv: https://data.cityofnewyork.us/City-Government/DOF-Summary-of-Neighborhood-Sales-by-Neighborhood-/5ebm-myj7"
   ]
  }
 ],
 "metadata": {
  "kernelspec": {
   "display_name": "Python 3",
   "language": "python",
   "name": "python3"
  },
  "language_info": {
   "codemirror_mode": {
    "name": "ipython",
    "version": 3
   },
   "file_extension": ".py",
   "mimetype": "text/x-python",
   "name": "python",
   "nbconvert_exporter": "python",
   "pygments_lexer": "ipython3",
   "version": "3.7.1"
  }
 },
 "nbformat": 4,
 "nbformat_minor": 2
}
